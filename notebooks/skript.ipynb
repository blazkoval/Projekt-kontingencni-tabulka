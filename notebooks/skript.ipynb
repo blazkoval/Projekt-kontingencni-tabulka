{
 "cells": [
  {
   "cell_type": "code",
   "execution_count": null,
   "id": "a98395c7-d18d-4699-a254-533d332c3394",
   "metadata": {},
   "outputs": [],
   "source": [
    "import json"
   ]
  },
  {
   "cell_type": "markdown",
   "id": "50849055-c8a3-402c-a364-5f616f2c5d6e",
   "metadata": {},
   "source": [
    "Otevřeme výsledek z dotazu"
   ]
  },
  {
   "cell_type": "code",
   "execution_count": null,
   "id": "e0bc2fb4-b35c-43a1-a40a-1daddb514512",
   "metadata": {},
   "outputs": [],
   "source": [
    "with open(\"./data.json\") as f:\n",
    "    data = json.load(f)"
   ]
  },
  {
   "cell_type": "code",
   "execution_count": null,
   "id": "0ee76fd7-d631-4c94-a1dc-1cd69fd4b8a2",
   "metadata": {},
   "outputs": [],
   "source": [
    "data"
   ]
  },
  {
   "cell_type": "code",
   "execution_count": null,
   "id": "a5e41482-4312-4d98-a456-92dc6e7ed561",
   "metadata": {},
   "outputs": [],
   "source": [
    "from datetime import datetime"
   ]
  },
  {
   "cell_type": "markdown",
   "id": "ac13cc4f-54c1-4a9c-b89f-0db2fc160037",
   "metadata": {},
   "source": [
    "Vytvoříme transformaci dat"
   ]
  },
  {
   "cell_type": "code",
   "execution_count": null,
   "id": "2101268c-4d99-4cc6-9412-d8a4dd6c80d2",
   "metadata": {},
   "outputs": [],
   "source": [
    "events = dataevents = data[\"data\"][\"eventPage\"]\n",
    "for event in events:\n",
    "    event_type = event.pop(\"eventType\")  # Odstranění původního eventType\n",
    "    event[\"eventtype_id\"] = event_type[\"id\"]  # Přidání nového klíče eventtype_id\n",
    "    event[\"eventtype_name\"] = event_type[\"name\"]  # Přidání nového klíče eventtype_name\n",
    "\n",
    "    start_date = datetime.fromisoformat(event[\"startdate\"])\n",
    "    end_date = datetime.fromisoformat(event[\"enddate\"])\n",
    "    duration = end_date - start_date\n",
    "    event[\"duration\"] = str(duration)\n",
    "\n",
    "    # Odstranění původních atributů \"startdate\" a \"enddate\"\n",
    "    del event[\"startdate\"]\n",
    "    del event[\"enddate\"]"
   ]
  },
  {
   "cell_type": "markdown",
   "id": "577974e4-3af6-437a-ba39-ab6545d32099",
   "metadata": {},
   "source": [
    "Po transformaci uložíme do nového .json souboru"
   ]
  },
  {
   "cell_type": "code",
   "execution_count": null,
   "id": "8ace551a-3c92-4b4b-a279-8adf94e76cee",
   "metadata": {},
   "outputs": [],
   "source": [
    "with open(\"./test.json\", \"w\") as outfile:\n",
    "    json.dump(data, outfile)"
   ]
  },
  {
   "cell_type": "markdown",
   "id": "781c1ac5-f99b-4fed-8e7b-502700c4d34b",
   "metadata": {},
   "source": [
    "Otevřeme a ověříme zda se data transformovala"
   ]
  },
  {
   "cell_type": "code",
   "execution_count": null,
   "id": "59eb7cb6-a078-4f61-9529-70c86465440e",
   "metadata": {},
   "outputs": [],
   "source": [
    "with open(\"./test.json\") as tf:\n",
    "    data2 = json.load(tf)"
   ]
  },
  {
   "cell_type": "code",
   "execution_count": null,
   "id": "1ceafa35-2723-4950-bed2-3ad00a92a88e",
   "metadata": {},
   "outputs": [],
   "source": [
    "data2"
   ]
  },
  {
   "cell_type": "code",
   "execution_count": null,
   "id": "325a46f7-1584-44ec-ba73-99e148564341",
   "metadata": {},
   "outputs": [],
   "source": []
  }
 ],
 "metadata": {
  "kernelspec": {
   "display_name": "Python 3 (ipykernel)",
   "language": "python",
   "name": "python3"
  },
  "language_info": {
   "codemirror_mode": {
    "name": "ipython",
    "version": 3
   },
   "file_extension": ".py",
   "mimetype": "text/x-python",
   "name": "python",
   "nbconvert_exporter": "python",
   "pygments_lexer": "ipython3",
   "version": "3.11.6"
  }
 },
 "nbformat": 4,
 "nbformat_minor": 5
}
