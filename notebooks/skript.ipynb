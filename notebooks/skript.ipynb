{
 "cells": [
  {
   "cell_type": "code",
   "execution_count": null,
   "id": "a98395c7-d18d-4699-a254-533d332c3394",
   "metadata": {},
   "outputs": [],
   "source": [
    "import json"
   ]
  },
  {
   "cell_type": "code",
   "execution_count": null,
   "id": "e0bc2fb4-b35c-43a1-a40a-1daddb514512",
   "metadata": {},
   "outputs": [],
   "source": [
    "with open(\"./data.json\") as f:\n",
    "    data = json.load(f)\n",
    "print(data)"
   ]
  },
  {
   "cell_type": "code",
   "execution_count": null,
   "id": "0ee76fd7-d631-4c94-a1dc-1cd69fd4b8a2",
   "metadata": {},
   "outputs": [],
   "source": [
    "data"
   ]
  },
  {
   "cell_type": "code",
   "execution_count": null,
   "id": "511839e8-b89c-417e-ab6a-028aaa7448f7",
   "metadata": {},
   "outputs": [],
   "source": [
    "with open(\"./transorm_data.json\") as tf:\n",
    "    data2 = json.load(tf)\n",
    "print(data2)"
   ]
  },
  {
   "cell_type": "code",
   "execution_count": null,
   "id": "f01521a2-71b9-4cae-97ed-e77244e5e950",
   "metadata": {},
   "outputs": [],
   "source": [
    "data2"
   ]
  },
  {
   "cell_type": "code",
   "execution_count": null,
   "id": "a5e41482-4312-4d98-a456-92dc6e7ed561",
   "metadata": {},
   "outputs": [],
   "source": [
    "from datetime import datetime"
   ]
  },
  {
   "cell_type": "code",
   "execution_count": null,
   "id": "2101268c-4d99-4cc6-9412-d8a4dd6c80d2",
   "metadata": {},
   "outputs": [],
   "source": [
    "events = dataevents = data[\"data\"][\"eventPage\"]\n",
    "for event in events:\n",
    "    event_type = event.pop(\"eventType\")  # Odstranění původního eventType\n",
    "    event[\"eventtype_id\"] = event_type[\"id\"]  # Přidání nového klíče eventtype_id\n",
    "    event[\"eventtype_name\"] = event_type[\"name\"]  # Přidání nového klíče eventtype_name\n",
    "\n",
    "    start_date = datetime.fromisoformat(event[\"startdate\"])\n",
    "    end_date = datetime.fromisoformat(event[\"enddate\"])\n",
    "    duration = end_date - start_date\n",
    "    event[\"duration\"] = str(duration)\n",
    "\n",
    "    # Odstranění původních atributů \"startdate\" a \"enddate\"\n",
    "    del event[\"startdate\"]\n",
    "    del event[\"enddate\"]"
   ]
  },
  {
   "cell_type": "code",
   "execution_count": null,
   "id": "8ace551a-3c92-4b4b-a279-8adf94e76cee",
   "metadata": {},
   "outputs": [],
   "source": [
    "with open(\"./transorm_data.json\", \"w\") as outfile:\n",
    "    json.dump(data, outfile)"
   ]
  },
  {
   "cell_type": "code",
   "execution_count": null,
   "id": "59eb7cb6-a078-4f61-9529-70c86465440e",
   "metadata": {},
   "outputs": [],
   "source": []
  },
  {
   "cell_type": "code",
   "execution_count": null,
   "id": "1ceafa35-2723-4950-bed2-3ad00a92a88e",
   "metadata": {},
   "outputs": [],
   "source": []
  }
 ],
 "metadata": {
  "kernelspec": {
   "display_name": "Python 3 (ipykernel)",
   "language": "python",
   "name": "python3"
  },
  "language_info": {
   "codemirror_mode": {
    "name": "ipython",
    "version": 3
   },
   "file_extension": ".py",
   "mimetype": "text/x-python",
   "name": "python",
   "nbconvert_exporter": "python",
   "pygments_lexer": "ipython3",
   "version": "3.11.6"
  }
 },
 "nbformat": 4,
 "nbformat_minor": 5
}
