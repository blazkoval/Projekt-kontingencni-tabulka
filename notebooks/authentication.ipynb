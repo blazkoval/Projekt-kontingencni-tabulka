{
 "cells": [
  {
   "cell_type": "markdown",
   "id": "85625e5b",
   "metadata": {},
   "source": [
    "intalace knihoven"
   ]
  },
  {
   "cell_type": "code",
   "execution_count": 25,
   "id": "3b6e4f0a-c555-4e0c-81d3-7ae94b25bc65",
   "metadata": {},
   "outputs": [
    {
     "name": "stdout",
     "output_type": "stream",
     "text": [
      "Requirement already satisfied: aiohttp in c:\\users\\jacke\\appdata\\local\\programs\\python\\python312\\lib\\site-packages (3.9.3)\n",
      "Requirement already satisfied: aiosignal>=1.1.2 in c:\\users\\jacke\\appdata\\local\\programs\\python\\python312\\lib\\site-packages (from aiohttp) (1.3.1)\n",
      "Requirement already satisfied: attrs>=17.3.0 in c:\\users\\jacke\\appdata\\local\\programs\\python\\python312\\lib\\site-packages (from aiohttp) (23.2.0)\n",
      "Requirement already satisfied: frozenlist>=1.1.1 in c:\\users\\jacke\\appdata\\local\\programs\\python\\python312\\lib\\site-packages (from aiohttp) (1.4.1)\n",
      "Requirement already satisfied: multidict<7.0,>=4.5 in c:\\users\\jacke\\appdata\\local\\programs\\python\\python312\\lib\\site-packages (from aiohttp) (6.0.5)\n",
      "Requirement already satisfied: yarl<2.0,>=1.0 in c:\\users\\jacke\\appdata\\local\\programs\\python\\python312\\lib\\site-packages (from aiohttp) (1.9.4)\n",
      "Requirement already satisfied: idna>=2.0 in c:\\users\\jacke\\appdata\\local\\programs\\python\\python312\\lib\\site-packages (from yarl<2.0,>=1.0->aiohttp) (3.6)\n",
      "Note: you may need to restart the kernel to use updated packages.\n",
      "Requirement already satisfied: asyncio in c:\\users\\jacke\\appdata\\local\\programs\\python\\python312\\lib\\site-packages (3.4.3)\n",
      "Note: you may need to restart the kernel to use updated packages.\n"
     ]
    }
   ],
   "source": [
    "%pip install aiohttp\n",
    "%pip install asyncio"
   ]
  },
  {
   "cell_type": "markdown",
   "id": "4c9532e5",
   "metadata": {},
   "source": [
    "Importování knihoven"
   ]
  },
  {
   "cell_type": "code",
   "execution_count": 26,
   "id": "f39cc2b0-ae89-44f3-b0d3-e972dc08ffdb",
   "metadata": {},
   "outputs": [],
   "source": [
    "import aiohttp\n",
    "import asyncio"
   ]
  },
  {
   "cell_type": "markdown",
   "id": "a7e4e4ee",
   "metadata": {},
   "source": [
    "Získání přihlašovacích údajů"
   ]
  },
  {
   "cell_type": "code",
   "execution_count": 27,
   "id": "d69b14bb-2604-4de5-8f25-65c17f20df85",
   "metadata": {},
   "outputs": [],
   "source": [
    "async def getToken(username, password):\n",
    "    keyurl = \"http://127.0.0.1:33001/oauth/login3\"\n",
    "    async with aiohttp.ClientSession() as session:\n",
    "        async with session.get(keyurl) as resp:\n",
    "            # print(resp.status)\n",
    "            keyJson = await resp.json()\n",
    "            # print(keyJson)\n",
    "\n",
    "        payload = {\"key\": keyJson[\"key\"], \"username\": username, \"password\": password}\n",
    "        async with session.post(keyurl, json=payload) as resp:\n",
    "            # print(resp.status)\n",
    "            tokenJson = await resp.json()\n",
    "            # print(tokenJson)\n",
    "    return tokenJson.get(\"token\", None)\n",
    "            \n"
   ]
  },
  {
   "cell_type": "markdown",
   "id": "2f62aa10",
   "metadata": {},
   "source": [
    "Funkce pro query"
   ]
  },
  {
   "cell_type": "code",
   "execution_count": 28,
   "id": "f848e9ee",
   "metadata": {},
   "outputs": [],
   "source": [
    "def query(q, token):\n",
    "    async def post(variables):\n",
    "        gqlurl = \"http://127.0.0.1:33001/api/gql\"\n",
    "        payload = {\"query\": q, \"variables\": variables}\n",
    "        # headers = {\"Authorization\": f\"Bearer {token}\"}\n",
    "        cookies = {'authorization': token}\n",
    "        async with aiohttp.ClientSession() as session:\n",
    "            # print(headers, cookies)\n",
    "            async with session.post(gqlurl, json=payload, cookies=cookies) as resp:\n",
    "                # print(resp.status)\n",
    "                if resp.status != 200:\n",
    "                    text = await resp.text()\n",
    "                    print(text)\n",
    "                    return text\n",
    "                else:\n",
    "                    response = await resp.json()\n",
    "                    return response\n",
    "    return post \n"
   ]
  },
  {
   "cell_type": "markdown",
   "id": "b0493c43",
   "metadata": {},
   "source": [
    "Nějaký kód od hrbloka"
   ]
  },
  {
   "cell_type": "code",
   "execution_count": 29,
   "id": "2a9c378f-3f25-4281-bc0e-81426767f98d",
   "metadata": {},
   "outputs": [],
   "source": [
    "from itertools import product\n",
    "from functools import reduce\n",
    "\n",
    "def enumerateAttrs(attrs):\n",
    "    for key, value in attrs.items():\n",
    "        names = value.split(\".\")\n",
    "        name = names[0]\n",
    "        yield key, name\n",
    "\n",
    "def flattenList(inList, outItem, attrs):\n",
    "    for item in inList:\n",
    "        assert isinstance(item, dict), f\"in list only dicts are expected\"\n",
    "        for row in flatten(item, outItem, attrs):\n",
    "            # print(\"flatList\", row)\n",
    "            yield row\n",
    "            \n",
    "def flattenDict(inDict, outItem, attrs):\n",
    "    result = {**outItem}\n",
    "    # print(\"flatDict.result\", result)\n",
    "    complexAttrs = []\n",
    "    for key, value in enumerateAttrs(attrs):\n",
    "        attributeValue = inDict.get(value, None)\n",
    "        if isinstance(attributeValue, list):\n",
    "            complexAttrs.append((key, value))\n",
    "        elif isinstance(attributeValue, dict):\n",
    "            complexAttrs.append((key, value))\n",
    "        else:\n",
    "            result[key] = attributeValue\n",
    "    lists = []\n",
    "    for key, value in complexAttrs:\n",
    "        attributeValue = inDict.get(value, None)\n",
    "        prefix = f\"{value}.\"\n",
    "        prefixlen = len(prefix)\n",
    "        subAttrs = {key: value[prefixlen:] for key, value in attrs.items() if value.startswith(prefix)}\n",
    "        items = list(flatten(attributeValue, result, subAttrs))\n",
    "        lists.append(items)\n",
    "                     \n",
    "    if len(lists) == 0:\n",
    "        yield result\n",
    "    else:\n",
    "        for element in product(*lists):\n",
    "            reduced = reduce(lambda a, b: {**a, **b}, element, {})\n",
    "            yield reduced\n",
    "        \n",
    "def flatten(inData, outItem, attrs):\n",
    "    if isinstance(inData, dict):\n",
    "        for item in flattenDict(inData, outItem, attrs):\n",
    "            yield item\n",
    "    elif isinstance(inData, list):\n",
    "        for item in flattenList(inData, outItem, attrs):\n",
    "            yield item\n",
    "    else:\n",
    "        assert False, f\"Unexpected type on inData {inData}\"\n"
   ]
  },
  {
   "cell_type": "markdown",
   "id": "f80201a5",
   "metadata": {},
   "source": [
    "Definice\n",
    "    - přihlašovacích údajů\n",
    "    - query pro získání dat\n",
    "    - mapování dat"
   ]
  },
  {
   "cell_type": "code",
   "execution_count": 30,
   "id": "71889f76-0172-4bb3-936b-57879a7ded5c",
   "metadata": {},
   "outputs": [
    {
     "name": "stdout",
     "output_type": "stream",
     "text": [
      "[{'id': '45b2df80-ae0f-11ed-9bd8-0242ac110002', 'name': 'Zkouška', 'startdate': '2023-04-19T08:00:00', 'enddate': '2023-04-19T09:00:00', 'eventTypeId': 'b87d3ff0-8fd4-11ed-a6d4-0242ac110002', 'eventTypeName': 'Ostatní', 'groupsId': '22-5KB-A'}, {'id': '45b2df80-ae0f-11ed-9bd8-0242ac110002', 'name': 'Zkouška', 'startdate': '2023-04-19T08:00:00', 'enddate': '2023-04-19T09:00:00', 'eventTypeId': 'b87d3ff0-8fd4-11ed-a6d4-0242ac110002', 'eventTypeName': 'Ostatní', 'groupsId': '22-5KB-B'}, {'id': '45b2df80-ae0f-11ed-9bd8-0242ac110002', 'name': 'Zkouška', 'startdate': '2023-04-19T08:00:00', 'enddate': '2023-04-19T09:00:00', 'eventTypeId': 'b87d3ff0-8fd4-11ed-a6d4-0242ac110002', 'eventTypeName': 'Ostatní', 'groupsId': '22-5KB-C'}, {'id': '45b2df80-ae0f-11ed-9bd8-0242ac110002', 'name': 'Zkouška', 'startdate': '2023-04-19T08:00:00', 'enddate': '2023-04-19T09:00:00', 'eventTypeId': 'b87d3ff0-8fd4-11ed-a6d4-0242ac110002', 'eventTypeName': 'Ostatní', 'groupsId': '22-5KB-D'}, {'id': '45b2df80-ae0f-11ed-9bd8-0242ac110002', 'name': 'Zkouška', 'startdate': '2023-04-19T08:00:00', 'enddate': '2023-04-19T09:00:00', 'eventTypeId': 'b87d3ff0-8fd4-11ed-a6d4-0242ac110002', 'eventTypeName': 'Ostatní', 'groupsId': '22-5KB-E'}, {'id': '45b2df80-ae0f-11ed-9bd8-0242ac110002', 'name': 'Zkouška', 'startdate': '2023-04-19T08:00:00', 'enddate': '2023-04-19T09:00:00', 'eventTypeId': 'b87d3ff0-8fd4-11ed-a6d4-0242ac110002', 'eventTypeName': 'Ostatní', 'groupsId': '22-5KB-F'}, {'id': '45b2df80-ae0f-11ed-9bd8-0242ac110002', 'name': 'Zkouška', 'startdate': '2023-04-19T08:00:00', 'enddate': '2023-04-19T09:00:00', 'eventTypeId': 'b87d3ff0-8fd4-11ed-a6d4-0242ac110002', 'eventTypeName': 'Ostatní', 'groupsId': '22-5KB-G'}, {'id': '45b2df80-ae0f-11ed-9bd8-0242ac110002', 'name': 'Zkouška', 'startdate': '2023-04-19T08:00:00', 'enddate': '2023-04-19T09:00:00', 'eventTypeId': 'b87d3ff0-8fd4-11ed-a6d4-0242ac110002', 'eventTypeName': 'Ostatní', 'groupsId': '22-5KB-H'}, {'id': '45b2df80-ae0f-11ed-9bd8-0242ac110002', 'name': 'Zkouška', 'startdate': '2023-04-19T08:00:00', 'enddate': '2023-04-19T09:00:00', 'eventTypeId': 'b87d3ff0-8fd4-11ed-a6d4-0242ac110002', 'eventTypeName': 'Ostatní', 'groupsId': '22-5KB-I'}, {'id': '45b2df80-ae0f-11ed-9bd8-0242ac110002', 'name': 'Zkouška', 'startdate': '2023-04-19T08:00:00', 'enddate': '2023-04-19T09:00:00', 'eventTypeId': 'b87d3ff0-8fd4-11ed-a6d4-0242ac110002', 'eventTypeName': 'Ostatní', 'groupsId': '22-5KB-J'}]\n"
     ]
    }
   ],
   "source": [
    "username = \"john.newbie@world.com\"\n",
    "password = \"john.newbie@world.com\"\n",
    "\n",
    "queryStr = \"\"\"\n",
    "{\n",
    "  result: eventPage(\n",
    "    where: {\n",
    "      _and: [\n",
    "        {type_id: {_in: [\n",
    "          \"b87d7be6-8fd4-11ed-a6d4-0242ac110002\",\n",
    "          \"b87d3ff0-8fd4-11ed-a6d4-0242ac110002\"]}},\n",
    "        {startdate: {_gt: \"2022-09-01T00:00:00\"}},\n",
    "        {enddate: {_lt: \"2023-09-01T00:00:00\"}}\n",
    "      ]\n",
    "    }\n",
    "  ) {\n",
    "    id\n",
    "    name\n",
    "    startdate\n",
    "    enddate\n",
    "    eventType {\n",
    "      id\n",
    "      name\n",
    "    }\n",
    "    groups {\n",
    "      id\n",
    "      name\n",
    "    }\n",
    "  }\n",
    "}\n",
    "\"\"\"\n",
    "\n",
    "mappers = {\n",
    "    \"id\": \"id\",\n",
    "    \"name\": \"name\",\n",
    "    \"startdate\": \"startdate\",\n",
    "    \"enddate\": \"enddate\",\n",
    "    \"eventTypeId\": \"eventType.id\",\n",
    "    \"eventTypeName\": \"eventType.name\",\n",
    "    # \"eventduration\": \"presences.event.duration\",\n",
    "    \"groupsId\": \"groups.id\",\n",
    "    \"groupsId\": \"groups.name\"\n",
    "}\n",
    "\n",
    "async def fullPipe():\n",
    "    global pandasData\n",
    "    token = await getToken(username, password)\n",
    "    qfunc = query(queryStr, token)\n",
    "    response = await qfunc({})\n",
    "    \n",
    "    data = response.get(\"data\", None)\n",
    "    result = data.get(\"result\", None)\n",
    "    # response = await qfunc({})\n",
    "    flatData = flatten(result, {}, mappers)\n",
    "    print(list(flatData))\n",
    "    \n",
    "    #print(response)\n",
    "# async def main():\n",
    "#     flatData = await fullPipe()\n",
    "#     with open(result.json, w, encodin= utf-)\n",
    "    #\n",
    "\n",
    "    #\n",
    "   # pandasData = toTable(flatData)\n",
    "   # return pandasData\n",
    "  \n",
    "\n",
    "await fullPipe()\n",
    "# print(list(flatData))\n"
   ]
  },
  {
   "cell_type": "markdown",
   "id": "3239f62e",
   "metadata": {},
   "source": [
    "Transforamce dat"
   ]
  },
  {
   "cell_type": "markdown",
   "id": "afc7cc26",
   "metadata": {},
   "source": [
    "import json\n",
    "from datetime import datetime\n",
    "import copy\n",
    "import pandas as pd\n",
    "from collections import defaultdict"
   ]
  },
  {
   "cell_type": "markdown",
   "id": "179dab64-690d-408d-9937-04a965149b35",
   "metadata": {},
   "source": [
    "def transform_events(data):\n",
    "    transformed_events = []\n",
    "    \n",
    "    for event in data[\"data\"][\"eventPage\"]:\n",
    "        event_type = event.pop(\"eventType\")  # Odstranění původního eventType\n",
    "        event[\"eventtype_id\"] = event_type[\"id\"]  # Přidání nového klíče eventtype_id\n",
    "        event[\"eventtype_name\"] = event_type[\"name\"]  # Přidání nového klíče eventtype_name\n",
    "\n",
    "        start_date = datetime.fromisoformat(event[\"startdate\"])\n",
    "        end_date = datetime.fromisoformat(event[\"enddate\"])\n",
    "        duration = end_date - start_date\n",
    "        event[\"duration\"] = duration.total_seconds() / 60  # Převod na minuty\n",
    "\n",
    "        # Odstranění původních atributů \"startdate\" a \"enddate\"\n",
    "        del event[\"startdate\"]\n",
    "        del event[\"enddate\"]\n",
    "\n",
    "        for group in event[\"groups\"]:\n",
    "            event_copy = copy.deepcopy(event)\n",
    "            event_copy[\"group_id\"] = group[\"id\"]\n",
    "            event_copy[\"group_name\"] = group[\"name\"]\n",
    "            transformed_events.append(event_copy)\n",
    "\n",
    "    for event in transformed_events:\n",
    "        if \"groups\" in event:\n",
    "            del event[\"groups\"]\n",
    "\n",
    "    return transformed_events"
   ]
  },
  {
   "cell_type": "markdown",
   "id": "d0748113",
   "metadata": {},
   "source": []
  },
  {
   "cell_type": "markdown",
   "id": "3b0bcec4",
   "metadata": {},
   "source": [
    "def aggregate_events(events):\n",
    "    aggregated_data = defaultdict(lambda: defaultdict(lambda: {\"total_duration\": 0.0}))\n",
    "\n",
    "    for event in events:\n",
    "        group_name = event[\"group_name\"]\n",
    "        name = event[\"eventtype_name\"]\n",
    "        duration = event[\"duration\"]\n",
    "        \n",
    "        aggregated_data[group_name][name][\"total_duration\"] += duration\n",
    "    \n",
    "    # Konverze na list dict pro výstup\n",
    "    output_data = []\n",
    "    for group_name, events in aggregated_data.items():\n",
    "        for name, details in events.items():\n",
    "            output_data.append({\n",
    "                \"group_name\": group_name,\n",
    "                \"eventtype_name\": name,\n",
    "                \"total_duration\": details[\"total_duration\"]\n",
    "            })\n",
    "    \n",
    "    return output_data"
   ]
  },
  {
   "cell_type": "markdown",
   "id": "15dabc0d",
   "metadata": {},
   "source": []
  },
  {
   "cell_type": "markdown",
   "id": "72e2b952",
   "metadata": {},
   "source": [
    "f = \"data.json\"\n",
    "with open(f, 'r', encoding='utf-8') as file:\n",
    "    data_json = json.load(file)\n",
    "\n",
    "\n",
    "transformed_data = transform_events(data_json)\n",
    "aggregated_data = aggregate_events(transformed_data)\n",
    "\n",
    "# ====== transformovana data do JSONu a excelu ==========\n",
    "# with open('transformed.json', 'w', encoding='utf-8') as outfile:\n",
    "#     json.dump(transformed_data, outfile, indent=4, ensure_ascii=False)\n",
    "\n",
    "# df = pd.DataFrame(transformed_data)\n",
    "# df.to_excel('tranformed.xlsx', index=False)\n",
    "\n",
    "# ====== agregovana data do JSONu a excelu ==============\n",
    "with open('aggregated.json', 'w', encoding='utf-8') as outfile:\n",
    "    json.dump(aggregated_data, outfile, indent=4, ensure_ascii=False)\n",
    "\n",
    "df = pd.DataFrame(aggregated_data)\n",
    "df.to_excel('aggregated.xlsx', index=False)"
   ]
  }
 ],
 "metadata": {
  "kernelspec": {
   "display_name": "Python 3 (ipykernel)",
   "language": "python",
   "name": "python3"
  },
  "language_info": {
   "codemirror_mode": {
    "name": "ipython",
    "version": 3
   },
   "file_extension": ".py",
   "mimetype": "text/x-python",
   "name": "python",
   "nbconvert_exporter": "python",
   "pygments_lexer": "ipython3",
   "version": "3.11.6"
  }
 },
 "nbformat": 4,
 "nbformat_minor": 5
}
