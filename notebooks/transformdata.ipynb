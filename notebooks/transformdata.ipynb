{
 "cells": [
  {
   "cell_type": "markdown",
   "id": "8a3cce9a-80ec-4792-ab9f-f161f2e94668",
   "metadata": {},
   "source": [
    "First of all we import all needed libraries"
   ]
  },
  {
   "cell_type": "code",
   "execution_count": null,
   "id": "ddbfe2c9-89bc-49c3-859a-42afb5d8c719",
   "metadata": {},
   "outputs": [],
   "source": [
    "import json\n",
    "from datetime import datetime\n",
    "import copy\n",
    "import pandas as pd\n"
   ]
  },
  {
   "cell_type": "markdown",
   "id": "37d6356a-dc8a-4792-9e30-a850198289d6",
   "metadata": {},
   "source": [
    "Next we create a function, which transforms our data for agregation that:\n",
    "- Replaces **eventType** with **eventtype_id** and **eventtype_name**\n",
    "- Transforms **end_date** and **start_date** into minutes, substracts each other and creates a new header **duration**\n",
    "- Deletes end_date and start_date"
   ]
  },
  {
   "cell_type": "code",
   "execution_count": null,
   "id": "46208ab4-325a-415e-b503-6595eaef0d1a",
   "metadata": {},
   "outputs": [],
   "source": [
    "def transform_events(data):\n",
    "    transformed_events = []\n",
    "    \n",
    "    for event in data[\"data\"][\"eventPage\"]:\n",
    "        event_type = event.pop(\"eventType\")  # Odstranění původního eventType\n",
    "        event[\"eventtype_id\"] = event_type[\"id\"]  # Přidání nového klíče eventtype_id\n",
    "        event[\"eventtype_name\"] = event_type[\"name\"]  # Přidání nového klíče eventtype_name\n",
    "\n",
    "        start_date = datetime.fromisoformat(event[\"startdate\"])\n",
    "        end_date = datetime.fromisoformat(event[\"enddate\"])\n",
    "        duration = end_date - start_date\n",
    "        event[\"duration\"] = duration.total_seconds() / 60  # Převod na minuty\n",
    "\n",
    "        # Odstranění původních atributů \"startdate\" a \"enddate\"\n",
    "        del event[\"startdate\"]\n",
    "        del event[\"enddate\"]\n",
    "\n",
    "        for group in event[\"groups\"]:\n",
    "            event_copy = copy.deepcopy(event)\n",
    "            event_copy[\"group_id\"] = group[\"id\"]\n",
    "            event_copy[\"group_name\"] = group[\"name\"]\n",
    "            transformed_events.append(event_copy)\n",
    "\n",
    "    for event in transformed_events:\n",
    "        if \"groups\" in event:\n",
    "            del event[\"groups\"]\n",
    "\n",
    "    return transformed_events"
   ]
  },
  {
   "cell_type": "markdown",
   "id": "98fde0a5-d6b8-43bd-b9e0-905a30201492",
   "metadata": {},
   "source": [
    "We open our original data for agregation and then transform it into a new json file"
   ]
  },
  {
   "cell_type": "code",
   "execution_count": null,
   "id": "2ca8282a-b738-4a6a-a81a-01740d2c5638",
   "metadata": {},
   "outputs": [],
   "source": [
    "f = \"data.json\"\n",
    "with open(f, 'r', encoding='utf-8') as file:\n",
    "    data_json = json.load(file)"
   ]
  },
  {
   "cell_type": "code",
   "execution_count": null,
   "id": "0eefe152-b7fd-461b-8d9c-2b1b136ff037",
   "metadata": {},
   "outputs": [],
   "source": [
    "transformed_data = transform_events(data_json)"
   ]
  },
  {
   "cell_type": "code",
   "execution_count": null,
   "id": "0481cede-318f-4c92-9d6e-7b0f0efcceee",
   "metadata": {},
   "outputs": [],
   "source": [
    "with open('transformed.json', 'w', encoding='utf-8') as outfile:\n",
    "    json.dump(transformed_data, outfile, indent=4, ensure_ascii=False)"
   ]
  },
  {
   "cell_type": "markdown",
   "id": "3de29d28-18cb-410f-847c-7815a67e35e6",
   "metadata": {},
   "source": [
    "Here we agregate the data for excel"
   ]
  },
  {
   "cell_type": "code",
   "execution_count": null,
   "id": "72bef4f8-4a8b-4321-85c0-d550d5afd8f4",
   "metadata": {},
   "outputs": [],
   "source": [
    "df = pd.DataFrame(transformed_data)\n",
    "df.to_excel('transformed.xlsx', index=False)\n"
   ]
  },
  {
   "cell_type": "code",
   "execution_count": null,
   "id": "4723f194-cc85-400c-bfdd-5f28cdc35064",
   "metadata": {},
   "outputs": [],
   "source": [
    "transformed_data"
   ]
  },
  {
   "cell_type": "code",
   "execution_count": null,
   "id": "e3ed8da6-d36b-49ad-af8d-9aec7dd10e30",
   "metadata": {},
   "outputs": [],
   "source": []
  }
 ],
 "metadata": {
  "kernelspec": {
   "display_name": "Python 3 (ipykernel)",
   "language": "python",
   "name": "python3"
  },
  "language_info": {
   "codemirror_mode": {
    "name": "ipython",
    "version": 3
   },
   "file_extension": ".py",
   "mimetype": "text/x-python",
   "name": "python",
   "nbconvert_exporter": "python",
   "pygments_lexer": "ipython3",
   "version": "3.11.6"
  }
 },
 "nbformat": 4,
 "nbformat_minor": 5
}
