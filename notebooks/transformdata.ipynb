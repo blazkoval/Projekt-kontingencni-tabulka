{
 "cells": [
  {
   "cell_type": "code",
   "execution_count": 2,
   "id": "ddbfe2c9-89bc-49c3-859a-42afb5d8c719",
   "metadata": {},
   "outputs": [],
   "source": [
    "import json\n",
    "from datetime import datetime\n",
    "\n",
    "f = \"data.json\"\n",
    "with open(f, 'r', encoding='utf-8') as file:\n",
    "    data_json = json.load(file)\n",
    "\n",
    "# Přetransformování dat\n",
    "events = data_json[\"data\"][\"eventPage\"]\n",
    "for event in events:\n",
    "    event_type = event.pop(\"eventType\")  # Odstranění původního eventType\n",
    "    event[\"eventtype_id\"] = event_type[\"id\"]  # Přidání nového klíče eventtype_id\n",
    "    event[\"eventtype_name\"] = event_type[\"name\"]  # Přidání nového klíče eventtype_name\n",
    "\n",
    "    start_date = datetime.fromisoformat(event[\"startdate\"])\n",
    "    end_date = datetime.fromisoformat(event[\"enddate\"])\n",
    "    duration = end_date - start_date\n",
    "    event[\"duration\"] = str(duration)\n",
    "\n",
    "    # Odstranění původních atributů \"startdate\" a \"enddate\"\n",
    "    del event[\"startdate\"]\n",
    "    del event[\"enddate\"]\n",
    "\n",
    "with open('transformed.json', 'w', encoding='utf-8') as outfile:\n",
    "    json.dump(data_json, outfile, indent=4, ensure_ascii=False)"
   ]
  },
  {
   "cell_type": "code",
   "execution_count": null,
   "id": "2ca8282a-b738-4a6a-a81a-01740d2c5638",
   "metadata": {},
   "outputs": [],
   "source": []
  }
 ],
 "metadata": {
  "kernelspec": {
   "display_name": "Python 3 (ipykernel)",
   "language": "python",
   "name": "python3"
  },
  "language_info": {
   "codemirror_mode": {
    "name": "ipython",
    "version": 3
   },
   "file_extension": ".py",
   "mimetype": "text/x-python",
   "name": "python",
   "nbconvert_exporter": "python",
   "pygments_lexer": "ipython3",
   "version": "3.11.6"
  }
 },
 "nbformat": 4,
 "nbformat_minor": 5
}
